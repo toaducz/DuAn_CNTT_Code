{
  "nbformat": 4,
  "nbformat_minor": 0,
  "metadata": {
    "colab": {
      "provenance": []
    },
    "kernelspec": {
      "name": "python3",
      "display_name": "Python 3"
    },
    "language_info": {
      "name": "python"
    }
  },
  "cells": [
    {
      "cell_type": "code",
      "execution_count": null,
      "metadata": {
        "colab": {
          "base_uri": "https://localhost:8080/"
        },
        "id": "-x730Cy1kCyP",
        "outputId": "52bd34b3-4e09-41c4-9b59-69c38c4b9ed9"
      },
      "outputs": [
        {
          "output_type": "stream",
          "name": "stdout",
          "text": [
            "https://vietnamnet.vn/the-thao/tin-chuyen-nhuong-page4\n",
            "https://vietnamnet.vn/the-thao/tin-chuyen-nhuong-page5\n",
            "https://vietnamnet.vn/the-thao/tin-chuyen-nhuong-page6\n",
            "https://vietnamnet.vn/the-thao/tin-chuyen-nhuong-page7\n",
            "https://vietnamnet.vn/the-thao/tin-chuyen-nhuong-page8\n",
            "https://vietnamnet.vn/the-thao/tin-chuyen-nhuong-page9\n",
            "https://vietnamnet.vn/the-thao/tin-chuyen-nhuong-page10\n",
            "https://vietnamnet.vn/the-thao/tin-chuyen-nhuong-page11\n",
            "https://vietnamnet.vn/the-thao/tin-chuyen-nhuong-page12\n",
            "https://vietnamnet.vn/the-thao/tin-chuyen-nhuong-page13\n",
            "https://vietnamnet.vn/the-thao/tin-chuyen-nhuong-page14\n",
            "https://vietnamnet.vn/the-thao/tin-chuyen-nhuong-page15\n",
            "https://vietnamnet.vn/the-thao/tin-chuyen-nhuong-page16\n",
            "https://vietnamnet.vn/the-thao/tin-chuyen-nhuong-page17\n",
            "https://vietnamnet.vn/the-thao/tin-chuyen-nhuong-page18\n",
            "https://vietnamnet.vn/the-thao/tin-chuyen-nhuong-page19\n",
            "https://vietnamnet.vn/the-thao/tin-chuyen-nhuong-page20\n",
            "https://vietnamnet.vn/the-thao/tin-chuyen-nhuong-page21\n",
            "https://vietnamnet.vn/the-thao/tin-chuyen-nhuong-page22\n",
            "https://vietnamnet.vn/the-thao/tin-chuyen-nhuong-page23\n",
            "https://vietnamnet.vn/the-thao/tin-chuyen-nhuong-page24\n",
            "https://vietnamnet.vn/the-thao/tin-chuyen-nhuong-page25\n",
            "https://vietnamnet.vn/the-thao/tin-chuyen-nhuong-page26\n",
            "https://vietnamnet.vn/the-thao/tin-chuyen-nhuong-page27\n",
            "https://vietnamnet.vn/the-thao/tin-chuyen-nhuong-page28\n",
            "https://vietnamnet.vn/the-thao/tin-chuyen-nhuong-page29\n",
            "https://vietnamnet.vn/the-thao/tin-chuyen-nhuong-page30\n",
            "https://vietnamnet.vn/the-thao/tin-chuyen-nhuong-page31\n",
            "https://vietnamnet.vn/the-thao/tin-chuyen-nhuong-page32\n",
            "https://vietnamnet.vn/the-thao/tin-chuyen-nhuong-page33\n",
            "https://vietnamnet.vn/the-thao/tin-chuyen-nhuong-page34\n",
            "https://vietnamnet.vn/the-thao/tin-chuyen-nhuong-page35\n",
            "https://vietnamnet.vn/the-thao/tin-chuyen-nhuong-page36\n",
            "https://vietnamnet.vn/the-thao/tin-chuyen-nhuong-page37\n",
            "https://vietnamnet.vn/the-thao/tin-chuyen-nhuong-page38\n",
            "https://vietnamnet.vn/the-thao/tin-chuyen-nhuong-page39\n",
            "https://vietnamnet.vn/the-thao/tin-chuyen-nhuong-page40\n",
            "https://vietnamnet.vn/the-thao/tin-chuyen-nhuong-page41\n",
            "https://vietnamnet.vn/the-thao/tin-chuyen-nhuong-page42\n",
            "https://vietnamnet.vn/the-thao/tin-chuyen-nhuong-page43\n",
            "https://vietnamnet.vn/the-thao/tin-chuyen-nhuong-page44\n",
            "https://vietnamnet.vn/the-thao/tin-chuyen-nhuong-page45\n",
            "https://vietnamnet.vn/the-thao/tin-chuyen-nhuong-page46\n",
            "https://vietnamnet.vn/the-thao/tin-chuyen-nhuong-page47\n",
            "https://vietnamnet.vn/the-thao/tin-chuyen-nhuong-page48\n",
            "https://vietnamnet.vn/the-thao/tin-chuyen-nhuong-page49\n",
            "https://vietnamnet.vn/the-thao/tin-chuyen-nhuong-page50\n"
          ]
        }
      ],
      "source": [
        "import requests\n",
        "from bs4 import BeautifulSoup\n",
        "\n",
        "n = 50\n",
        "\n",
        "root = 'https://vietnamnet.vn/the-thao/tin-chuyen-nhuong-page'\n",
        "\n",
        "# Mở một tệp tin để ghi\n",
        "with open('output_links.txt', 'w', encoding='utf-8') as file:\n",
        "    for i in range(4, n + 1):\n",
        "        url = root + str(i)\n",
        "        print(url)\n",
        "        response = requests.get(url)\n",
        "\n",
        "        if response.status_code == 200:\n",
        "            soup = BeautifulSoup(response.text, 'html.parser')\n",
        "\n",
        "            # Định vị các đối tượng chứa link bài báo, ví dụ như các thẻ <a> trong các thẻ <h3>\n",
        "            articles = soup.select('h3 a[href]')\n",
        "\n",
        "            for article in articles:\n",
        "                article_url = article['href']\n",
        "                article_url =  article_url\n",
        "                # print(article_url)\n",
        "\n",
        "                # Ghi đường link vào tệp tin\n",
        "                if \"video\" not in article_url:\n",
        "                  file.write(article_url + '\\n')\n",
        "        else:\n",
        "            print(f\"Failed to fetch page {url}. Status code: {response.status_code}\")\n"
      ]
    }
  ]
}